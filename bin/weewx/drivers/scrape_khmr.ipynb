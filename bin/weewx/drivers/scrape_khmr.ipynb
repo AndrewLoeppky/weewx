{
 "cells": [
  {
   "cell_type": "markdown",
   "id": "dd68dba2",
   "metadata": {},
   "source": [
    "## Scrape KHMR\n",
    "\n",
    "Driver for scraping data from Kicking Horse Mountain Resort in Golden, BC, Canada. Scrapes data from the URL:\n",
    "\n",
    "http://kickinghorseresort.com/conditions/advanced-weather-data/\n",
    "\n",
    "and outputs weather data for weewx processing and display etc"
   ]
  },
  {
   "cell_type": "code",
   "execution_count": 77,
   "id": "05c6b562",
   "metadata": {},
   "outputs": [],
   "source": [
    "import pandas as pd\n",
    "import requests\n",
    "import bs4\n",
    "import datetime\n",
    "import time\n",
    "#import weewx"
   ]
  },
  {
   "cell_type": "code",
   "execution_count": 78,
   "id": "aa9187fc",
   "metadata": {},
   "outputs": [],
   "source": [
    "# scrape this URL\n",
    "the_url = 'http://kickinghorseresort.com/conditions/advanced-weather-data/'"
   ]
  },
  {
   "cell_type": "code",
   "execution_count": 79,
   "id": "cd4272bb",
   "metadata": {},
   "outputs": [],
   "source": [
    "# parse the page with requests + BeautifulSoup\n",
    "the_page = requests.get(the_url)\n",
    "the_soup = bs4.BeautifulSoup(the_page.content, 'html.parser').findAll()\n",
    "the_split = str(the_soup).split(\"\\r\\n\")"
   ]
  },
  {
   "cell_type": "code",
   "execution_count": 80,
   "id": "05e90f0d",
   "metadata": {},
   "outputs": [],
   "source": [
    "# figure out what day it is to search just the data we want\n",
    "today_day = datetime.datetime.today().day\n",
    "today_month = datetime.datetime.today().month\n",
    "today_year = datetime.datetime.today().year"
   ]
  },
  {
   "cell_type": "code",
   "execution_count": 87,
   "id": "d4e0b287",
   "metadata": {},
   "outputs": [
    {
     "name": "stdout",
     "output_type": "stream",
     "text": [
      "['10', '29', '0', '-5.7', '71', '36', '208', '49', '12.5']\n"
     ]
    }
   ],
   "source": [
    "# parse each line of raw HTML, looking for the current date in a specific format\n",
    "the_date = 0\n",
    "for line in the_split:\n",
    "    if line.__contains__(f\"   {today_month} {today_day}    \"):\n",
    "        # extract the date and parse\n",
    "        the_data = [item for item in line.split(\" \") if item != \"\"]\n",
    "        the_year = today_year\n",
    "        the_month = int(the_data[0])\n",
    "        the_day = int(the_data[1])\n",
    "        if the_data[2][:-2] == \"\": # handle \"midnight\"\n",
    "            the_hour = 0\n",
    "        else:\n",
    "            the_hour = int(the_data[2][:-2])  \n",
    "        new_date = datetime.datetime(year=the_year, month=the_month, day=the_day, hour=the_hour)\n",
    "        new_date = time.mktime(new_date.timetuple())\n",
    "        \n",
    "        # see if current entry is the latest available\n",
    "        if new_date > the_date:\n",
    "            the_date = new_date\n",
    "        # stop when latest date is reached\n",
    "        else:\n",
    "            break\n",
    "print(the_data)"
   ]
  },
  {
   "cell_type": "code",
   "execution_count": 69,
   "id": "dcbf1dfb",
   "metadata": {},
   "outputs": [
    {
     "data": {
      "text/plain": [
       "1667026800.0"
      ]
     },
     "execution_count": 69,
     "metadata": {},
     "output_type": "execute_result"
    }
   ],
   "source": [
    "new_date"
   ]
  },
  {
   "cell_type": "code",
   "execution_count": 70,
   "id": "516472b3",
   "metadata": {},
   "outputs": [
    {
     "data": {
      "text/plain": [
       "1667102400.0"
      ]
     },
     "execution_count": 70,
     "metadata": {},
     "output_type": "execute_result"
    }
   ],
   "source": [
    "the_date"
   ]
  },
  {
   "cell_type": "code",
   "execution_count": 16,
   "id": "968519b5",
   "metadata": {},
   "outputs": [
    {
     "name": "stdout",
     "output_type": "stream",
     "text": [
      "             10 29       0    -5.7     101      36     208      49    12.5\n",
      "             10 29     100    -5.7     136      35     202      44    12.5\n",
      "             10 29     200    -5.6     167      31     200      52    12.5\n",
      "             10 29     300    -5.6     197      30     209      44    12.5\n",
      "             10 29     400    -5.6     227      30     212      39    12.4\n",
      "             10 29     500    -5.7     255      28     214      39    12.4\n",
      "             10 29     600    -6.0     285      30     209      43    12.4\n",
      "             10 29     700    -6.3     319      34     206      44    12.4\n",
      "             10 29     800    -6.3     346      27     212      42    12.3\n",
      "             10 29     900    -6.5     375      29     207      45    12.5\n",
      "             10 29    1000    -6.4     410      35     208      51    13.1\n",
      "             10 29    1100    -5.8     444      34     208      47    16.6\n",
      "             10 29    1200    -5.3     471      27     207      36    16.6\n",
      "             10 29    1300    -5.2     498      27     213      46    14.8\n",
      "             10 29    1400    -5.4     524      26     219      39    14.2\n",
      "             10 29    1500    -5.4     546      22     204      33    13.8\n",
      "             10 29    1600    -5.3     571      25     206      34    13.9\n",
      "             10 29    1700    -5.5     596      25     210      40    13.6\n",
      "             10 29    1800    -5.6     623      27     209      38    13.1\n",
      "             10 29    1900    -5.6     652      28     216      39    12.8\n",
      "             10 29    2000    -5.5     680      29     214      37    12.6\n",
      "             10 29    2100    -5.3     704      24     209      33    12.5\n",
      "             10 29       0    -5.7     101      36     208      49    12.5\n",
      "             10 29     100    -5.7     136      35     202      44    12.5\n",
      "             10 29     200    -5.6     167      31     200      52    12.5\n"
     ]
    }
   ],
   "source": [
    "my_lines = []\n",
    "for line in the_split:\n",
    "    if line.__contains__(f\"   {today_month} {today_day}    \"):\n",
    "        print(line)\n",
    "        my_lines.append(line)\n",
    "        if len(my_lines) > 24:\n",
    "            break\n"
   ]
  },
  {
   "cell_type": "code",
   "execution_count": 5,
   "id": "319d9f83",
   "metadata": {},
   "outputs": [],
   "source": [
    "my_line = my_lines[6]"
   ]
  },
  {
   "cell_type": "code",
   "execution_count": 6,
   "id": "0094c144",
   "metadata": {},
   "outputs": [],
   "source": [
    "my_data = [item for item in my_line.split(\" \") if item != \"\"]"
   ]
  },
  {
   "cell_type": "code",
   "execution_count": 7,
   "id": "4c29feaa",
   "metadata": {},
   "outputs": [],
   "source": [
    "my_date = datetime.datetime(year=today_year, month=int(my_data[0]), day=int(my_data[1]), hour=int(my_data[2][:-2]))"
   ]
  },
  {
   "cell_type": "code",
   "execution_count": 11,
   "id": "639f1ce9",
   "metadata": {},
   "outputs": [
    {
     "ename": "NameError",
     "evalue": "name 'weewx' is not defined",
     "output_type": "error",
     "traceback": [
      "\u001b[1;31m---------------------------------------------------------------------------\u001b[0m",
      "\u001b[1;31mNameError\u001b[0m                                 Traceback (most recent call last)",
      "\u001b[1;32m~\\AppData\\Local\\Temp/ipykernel_2144/1782494026.py\u001b[0m in \u001b[0;36m<module>\u001b[1;34m\u001b[0m\n\u001b[0;32m      5\u001b[0m           \u001b[1;34m\"windGust\"\u001b[0m\u001b[1;33m:\u001b[0m\u001b[0mmy_data\u001b[0m\u001b[1;33m[\u001b[0m\u001b[1;36m7\u001b[0m\u001b[1;33m]\u001b[0m\u001b[1;33m,\u001b[0m\u001b[1;33m\u001b[0m\u001b[1;33m\u001b[0m\u001b[0m\n\u001b[0;32m      6\u001b[0m           \u001b[1;34m\"supplyVoltage\"\u001b[0m\u001b[1;33m:\u001b[0m\u001b[0mmy_data\u001b[0m\u001b[1;33m[\u001b[0m\u001b[1;36m8\u001b[0m\u001b[1;33m]\u001b[0m\u001b[1;33m,\u001b[0m\u001b[1;33m\u001b[0m\u001b[1;33m\u001b[0m\u001b[0m\n\u001b[1;32m----> 7\u001b[1;33m           \u001b[1;34m\"usUnits\"\u001b[0m\u001b[1;33m:\u001b[0m\u001b[0mweewx\u001b[0m\u001b[1;33m.\u001b[0m\u001b[0mMETRIC\u001b[0m\u001b[1;33m\u001b[0m\u001b[1;33m\u001b[0m\u001b[0m\n\u001b[0m\u001b[0;32m      8\u001b[0m          }\n",
      "\u001b[1;31mNameError\u001b[0m: name 'weewx' is not defined"
     ]
    }
   ],
   "source": [
    "packet = {\"dateTime\":time.mktime(my_date.timetuple()),\n",
    "          \"usUnits\":weewx.METRIC,\n",
    "          \"outTemp\":my_data[3],\n",
    "          \"windSpeed\":my_data[5],\n",
    "          \"windDir\":my_data[6],\n",
    "          \"windGust\":my_data[7],\n",
    "          \"supplyVoltage\":my_data[8],    \n",
    "         }"
   ]
  },
  {
   "cell_type": "code",
   "execution_count": 13,
   "id": "dd252e3e",
   "metadata": {},
   "outputs": [
    {
     "data": {
      "text/plain": [
       "{'dateTime': 1667048400.0,\n",
       " 'outTemp': '-6.0',\n",
       " 'windSpeed': '30',\n",
       " 'windDir': '209',\n",
       " 'windGust': '43',\n",
       " 'supplyVoltage': '12.4'}"
      ]
     },
     "execution_count": 13,
     "metadata": {},
     "output_type": "execute_result"
    }
   ],
   "source": [
    "packet"
   ]
  }
 ],
 "metadata": {
  "kernelspec": {
   "display_name": "Python 3 (ipykernel)",
   "language": "python",
   "name": "python3"
  },
  "language_info": {
   "codemirror_mode": {
    "name": "ipython",
    "version": 3
   },
   "file_extension": ".py",
   "mimetype": "text/x-python",
   "name": "python",
   "nbconvert_exporter": "python",
   "pygments_lexer": "ipython3",
   "version": "3.9.7"
  }
 },
 "nbformat": 4,
 "nbformat_minor": 5
}
